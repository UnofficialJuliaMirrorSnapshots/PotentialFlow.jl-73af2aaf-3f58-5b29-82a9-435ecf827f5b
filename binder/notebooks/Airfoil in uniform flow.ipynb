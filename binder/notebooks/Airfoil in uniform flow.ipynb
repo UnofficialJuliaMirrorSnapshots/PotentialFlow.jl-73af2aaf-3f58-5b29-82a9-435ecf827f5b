{
 "cells": [
  {
   "cell_type": "markdown",
   "metadata": {},
   "source": [
    "# Fixed airfoil in free stream"
   ]
  },
  {
   "cell_type": "markdown",
   "metadata": {},
   "source": [
    "This notebook demonstrates the use of conformally-mapped bodies and edge conditions to generate flows past an airfoil"
   ]
  },
  {
   "cell_type": "code",
   "execution_count": 1,
   "metadata": {},
   "outputs": [
    {
     "name": "stderr",
     "output_type": "stream",
     "text": [
      "┌ Info: Recompiling stale cache file /Users/jeff/.julia/compiled/v1.0/PotentialFlow/79Lvj.ji for PotentialFlow [73af2aaf-3f58-5b29-82a9-435ecf827f5b]\n",
      "└ @ Base loading.jl:1190\n"
     ]
    }
   ],
   "source": [
    "using PotentialFlow"
   ]
  },
  {
   "cell_type": "code",
   "execution_count": 2,
   "metadata": {},
   "outputs": [
    {
     "name": "stderr",
     "output_type": "stream",
     "text": [
      "┌ Warning: `getindex(o::PyObject, s::AbstractString)` is deprecated in favor of dot overloading (`getproperty`) so elements should now be accessed as e.g. `o.\"s\"` instead of `o[\"s\"]`.\n",
      "│   caller = top-level scope at none:0\n",
      "└ @ Core none:0\n"
     ]
    }
   ],
   "source": [
    "using Plots\n",
    "pyplot()\n",
    "clibrary(:colorbrewer)\n",
    "default(grid = false)"
   ]
  },
  {
   "cell_type": "markdown",
   "metadata": {},
   "source": [
    "## Set up"
   ]
  },
  {
   "cell_type": "markdown",
   "metadata": {},
   "source": [
    "The following function computes the right-hand side of the evolution equation. At the beginning of every time-step, we first determine the bound vortex sheet strength required to satisfy the no-flow-through condition, then velocity of all vortex elements. Finally, we need to transform the computed velocities so that they apply to the elements in the circle plane."
   ]
  },
  {
   "cell_type": "code",
   "execution_count": 3,
   "metadata": {},
   "outputs": [
    {
     "data": {
      "text/plain": [
       "compute_ẋ! (generic function with 1 method)"
      ]
     },
     "execution_count": 3,
     "metadata": {},
     "output_type": "execute_result"
    }
   ],
   "source": [
    "function compute_ẋ!(ẋ, x, t)    \n",
    "    body, freestream, ambient_sys = x\n",
    "    motion = ẋ[1]\n",
    "    # update the instantaneous motion of the body with the current motion\n",
    "    motion.ċ, motion.c̈, motion.α̇, motion.α̈ = motion.kin(t)\n",
    "        \n",
    "    Bodies.enforce_no_flow_through!(body, motion, (freestream, ambient_sys), t)\n",
    "        \n",
    "    # Zero the velocity\n",
    "    reset_velocity!(ẋ, x)\n",
    "        \n",
    "    # Compute the self-induced velocity of the system\n",
    "    self_induce_velocity!(ẋ, x, t)\n",
    "    \n",
    "    # Modify the velocity so that it provides the rate of change in the circle plane.\n",
    "    Bodies.transform_velocity!(ẋ, ẋ, x, body)\n",
    "end"
   ]
  },
  {
   "cell_type": "markdown",
   "metadata": {},
   "source": [
    "Once we have advected all the vortex elements, we release new blobs from the designated edges of the body. This function adds new blobs to the set with the correct strength to enforce edge conditions."
   ]
  },
  {
   "cell_type": "code",
   "execution_count": 4,
   "metadata": {},
   "outputs": [
    {
     "data": {
      "text/plain": [
       "shed_new_vorticity! (generic function with 3 methods)"
      ]
     },
     "execution_count": 4,
     "metadata": {},
     "output_type": "execute_result"
    }
   ],
   "source": [
    "function shed_new_vorticity!(blobs, edge1, edge2, body, freestream, motion, t, spcrit1 = 0.0, spcrit2 = 0.0)    \n",
    "    # assume that sheet positions are in the circle plane\n",
    "    \n",
    "    ϕ = 1/3 # fractional distance from the edge point to the previous blob\n",
    "    \n",
    "    # Location edges in physical plane\n",
    "    zedge1 = body.zs[edge1] # body.c + body.m.z[edge1]*exp(im*body.α)\n",
    "    zedge2 = body.zs[edge2] # body.c + body.m.z[edge2]*exp(im*body.α)\n",
    "    \n",
    "    # positions of previously-released blobs, transformed to physical plane\n",
    "    zblob1 = conftransform(blobs[end-1].z,body)\n",
    "    zblob2 = conftransform(blobs[end].z,body)\n",
    "\n",
    "    # positions of new blobs in physical plane\n",
    "    z1 = ϕ*zblob1 + (1-ϕ)*zedge1\n",
    "    z2 = ϕ*zblob2 + (1-ϕ)*zedge2\n",
    "\n",
    "    # positions of new blobs in circle plane\n",
    "    ζ1 = inverse_conftransform(z1,body)\n",
    "    ζ2 = inverse_conftransform(z2,body)\n",
    "\n",
    "    # new blobs, with unit strength for now\n",
    "    blob1 = Vortex.Blob(ζ1, 1.0, δ)\n",
    "    blob2 = Vortex.Blob(ζ2, 1.0, δ)\n",
    "     \n",
    "    Bodies.enforce_no_flow_through!(body, motion, (freestream, blobs), t) # need blobs in circle plane\n",
    "    \n",
    "    # Determine the strengths of the new blobs\n",
    "    Γ1, Γ2 = Bodies.vorticity_flux(body, edge1, edge2, (body,freestream,blobs), [blob1], [blob2], t, spcrit1, spcrit2);\n",
    "    \n",
    "    # Add the new blobs to the list\n",
    "    push!(blobs, Vortex.Blob(ζ1, Γ1, blobs[1].δ), Vortex.Blob(ζ2, Γ2, blobs[1].δ))\n",
    "    \n",
    "end"
   ]
  },
  {
   "cell_type": "code",
   "execution_count": 5,
   "metadata": {},
   "outputs": [
    {
     "data": {
      "text/plain": [
       "shed_new_vorticity! (generic function with 4 methods)"
      ]
     },
     "execution_count": 5,
     "metadata": {},
     "output_type": "execute_result"
    }
   ],
   "source": [
    "function shed_new_vorticity!(blobs, edge1, body, freestream, motion, t, spcrit1 = 0.0)    \n",
    "    # assume that sheet positions are in the circle plane\n",
    "    \n",
    "    ϕ = 1/3 # fractional distance from the edge point to the previous blob\n",
    "    \n",
    "    # Location edges in physical plane\n",
    "    zedge1 = body.zs[edge1] # body.c + body.m.z[edge1]*exp(im*body.α)\n",
    "    \n",
    "    # positions of previously-released blobs, transformed to physical plane\n",
    "    zblob1 = conftransform(blobs[end].z,body)\n",
    "\n",
    "    # positions of new blobs in physical plane\n",
    "    z1 = ϕ*zblob1 + (1-ϕ)*zedge1\n",
    "\n",
    "    # positions of new blobs in circle plane\n",
    "    ζ1 = inverse_conftransform(z1,body)\n",
    "\n",
    "    # new blobs, with unit strength for now\n",
    "    blob1 = Vortex.Blob(ζ1, 1.0, δ)\n",
    "     \n",
    "    Bodies.enforce_no_flow_through!(body, motion, (freestream, blobs), t) # need blobs in circle plane\n",
    "    \n",
    "    # Determine the strengths of the new blobs\n",
    "    Γ1 = Bodies.vorticity_flux(body, edge1, (body,freestream,blobs), [blob1], t, spcrit1);\n",
    "    \n",
    "    # Add the new blobs to the list\n",
    "    push!(blobs, Vortex.Blob(ζ1, Γ1, blobs[1].δ))\n",
    "    \n",
    "end"
   ]
  },
  {
   "cell_type": "markdown",
   "metadata": {},
   "source": [
    "## Set up the body, a NACA 4-digit airfoil"
   ]
  },
  {
   "cell_type": "code",
   "execution_count": 117,
   "metadata": {},
   "outputs": [
    {
     "data": {
      "image/png": "[encoded data removed]"
     },
     "execution_count": 117,
     "metadata": {},
     "output_type": "execute_result"
    }
   ],
   "source": [
    "w = SchwarzChristoffel.naca4(0.04,0.4,0.12;len=1)\n",
    "p = Bodies.Polygon(w);\n",
    "\n",
    "# Initial centroid position\n",
    "c = 0.0+0.0im\n",
    "\n",
    "# Set the angle of attack here. Note that a positive angle of attack is a negative angle here, because the angle \n",
    "# represents a counter-clockwise rotation\n",
    "α₀ = -10π/180\n",
    "\n",
    "b = Bodies.ConformalBody(p,c,α₀)\n",
    "plot(b)\n",
    "\n",
    "# Designate edge from which to release vortices. This find the vertex corresponding to the trailing edge\n",
    "edgeindices = findall(b.m.angle .== minimum(b.m.angle)) # Look for vertices that have minimum interior angle\n",
    "kTE = edgeindices[1] # trailing edge for releasing vorticity\n",
    "# Label the edge in the plot for checking\n",
    "plot!(real.(b.zs[[kTE]]),imag.(b.zs[[kTE]]),seriestype=:scatter)"
   ]
  },
  {
   "cell_type": "markdown",
   "metadata": {},
   "source": [
    "### Set up the motion.\n",
    "In this case, we will set up a free stream in x direction, and no airfoil motion."
   ]
  },
  {
   "cell_type": "code",
   "execution_count": 118,
   "metadata": {},
   "outputs": [],
   "source": [
    "freestream = Freestreams.Freestream(1.0)\n",
    "motion = Plates.RigidBodyMotion(Complex(0), 0.0)\n",
    "α = α₀;"
   ]
  },
  {
   "cell_type": "markdown",
   "metadata": {},
   "source": [
    "### Initialize the problem. Run from here onward when you want to restart a problem from scratch."
   ]
  },
  {
   "cell_type": "code",
   "execution_count": 119,
   "metadata": {},
   "outputs": [],
   "source": [
    "Δt = 5e-3; # time step"
   ]
  },
  {
   "cell_type": "markdown",
   "metadata": {},
   "source": [
    "We place the initial blobs near the edges of the body.\n",
    "\n",
    "#### NOTE: if you find you are getting an error, you might try changing the sign of Δz₀."
   ]
  },
  {
   "cell_type": "code",
   "execution_count": 201,
   "metadata": {},
   "outputs": [
    {
     "data": {
      "text/plain": [
       "1-element Array{PotentialFlow.Blobs.Blob{Float64},1}:\n",
       " Vortex.Blob(1.1366451802687534 - 0.25414462831680285im, 1.0, 0.07255528139019106)"
      ]
     },
     "execution_count": 201,
     "metadata": {},
     "output_type": "execute_result"
    }
   ],
   "source": [
    "b = Bodies.ConformalBody(p,c,α)\n",
    "\n",
    "edge1 = kTE # trailing edge index\n",
    "\n",
    "# blob radius\n",
    "δ = 0.02/abs(b.m.constant)\n",
    "\n",
    "# locations of edges in physical plane\n",
    "zedge1 = b.zs[edge1]\n",
    "\n",
    "# Vector to add to these edges. This determines the initial placement of the first vortex elements relative\n",
    "# to the edges.\n",
    "Δz₀ = -3*im*Δt*exp(im*α)\n",
    "\n",
    "# If, instead, you wish to generate a steady-state solution, set Δz₀ far away, approximating a starting vortex:\n",
    "#Δz₀ = 1000*exp(im*α)\n",
    "\n",
    "# locations of initial blobs in circle plane\n",
    "ζblob = inverse_conftransform(Δz₀ .+ [zedge1],b)\n",
    "\n",
    "# create the blobs, for now with unit strength\n",
    "blobs = Vortex.Blob.(ζblob, 1.0, δ)"
   ]
  },
  {
   "cell_type": "markdown",
   "metadata": {},
   "source": [
    "### Set up some tracer fluid particles\n",
    "These are inactive point vortices (i.e. negligible strength) that we will simply track as fluid particles. We will place them initially in a small square-shaped block"
   ]
  },
  {
   "cell_type": "code",
   "execution_count": 215,
   "metadata": {},
   "outputs": [],
   "source": [
    "# set the coordinates of the center of the block\n",
    "xtracer_center = -1.0\n",
    "ytracer_center = 0.0\n",
    "\n",
    "nt = 5 # number of tracers in each row and column of block\n",
    "Ltracer = 0.25 # length of each side of block\n",
    "\n",
    "# No need to change below here\n",
    "\n",
    "# form the square and place in a vector. Transform the zeta plane\n",
    "xt = xtracer_center .+ 0.5*Ltracer*range(-1,1,length=nt)\n",
    "yt = ytracer_center .+ 0.5*Ltracer*range(-1,1,length=nt)\n",
    "zt = dropdims(reshape([x+im*y for x in xt, y in yt],nt*nt,1),dims=2)\n",
    "ζt = inverse_conftransform(zt,b)\n",
    "\n",
    "# strength is small (but non-zero so we don't suppress plotting them)\n",
    "Γt = 1e-8\n",
    "\n",
    "tracers_ζ = Vortex.Blob.(ζt, Γt, δ)\n",
    "nothing"
   ]
  },
  {
   "cell_type": "markdown",
   "metadata": {},
   "source": [
    "### Now set the strength of the initial vortex"
   ]
  },
  {
   "cell_type": "markdown",
   "metadata": {},
   "source": [
    "We then adjust the circulation of the vortex blobs to satisfy the edge conditions.\n",
    "In this library, the vorticity flux from the edge of the body is determined through the edge suction parameter.\n",
    "The Kutta condition simply corresponds to the suction parameter being zero at the edge, whereas Inf suppresses shedding altogether from the edge."
   ]
  },
  {
   "cell_type": "code",
   "execution_count": 216,
   "metadata": {},
   "outputs": [],
   "source": [
    "# critical edge suction parameter\n",
    "spcrit1 = 0 # trailing edge\n",
    "\n",
    "fs_circle = inverse_conftransform(freestream,b)\n",
    "Bodies.enforce_no_flow_through!(b, motion, (fs_circle,tracers_ζ), 0)\n",
    "sys = (b,fs_circle,tracers_ζ)\n",
    "\n",
    "# This determines the circulations that enforce the edge conditions\n",
    "Γ1 = Bodies.vorticity_flux(b, edge1, sys, [blobs[1]], 0, spcrit1);\n",
    "\n",
    "# Now create the blobs with the correct circulations\n",
    "blobs = Vortex.Blob.(ζblob, [Γ1], δ)\n",
    "\n",
    "# This creates the image blobs, so that no-penetration condition is enforced\n",
    "Bodies.enforce_no_flow_through!(b, motion, (fs_circle,blobs,tracers_ζ), 0)\n",
    "\n",
    "# Set up the initial system\n",
    "ambient_sys = blobs\n",
    "sys = (b, fs_circle,ambient_sys,tracers_ζ)\n",
    "nothing"
   ]
  },
  {
   "cell_type": "markdown",
   "metadata": {},
   "source": [
    "### Set up initial data structures for the solution"
   ]
  },
  {
   "cell_type": "code",
   "execution_count": 204,
   "metadata": {},
   "outputs": [],
   "source": [
    "t = 0.0\n",
    "\n",
    "sys₊ = deepcopy(sys) # Used for storage during time-marching\n",
    "#ẋs = [(motion, Complex(0.0), allocate_velocity(ambient_sys)) for k = 1:4]  # For RK4\n",
    "ẋs = (motion, Complex(0.0), allocate_velocity(ambient_sys),allocate_velocity(tracers_ζ)) # For forward Euler method\n",
    "\n",
    "# Storage\n",
    "time = Float64[]\n",
    "imp = ComplexF64[]\n",
    "\n",
    "blob_z = conftransform(ambient_sys,b)\n",
    "tracers_z = conftransform(tracers_ζ,b)\n",
    "\n",
    "# store the point vortices separately from the tracers\n",
    "vorticity = [deepcopy((b,blob_z))]\n",
    "tracers = [deepcopy((b,tracers_z))]\n",
    "\n",
    "push!(imp,Elements.impulse((b,blob_z)))\n",
    "\n",
    "tsamp = 0.25 # Rate at which to save system data in `track` array\n",
    "nothing"
   ]
  },
  {
   "cell_type": "markdown",
   "metadata": {},
   "source": [
    "## Time-Marching"
   ]
  },
  {
   "cell_type": "markdown",
   "metadata": {},
   "source": [
    "We use forward Euler to evolve the system and apply filtering on the trailing edge vortex sheets to suppress small-scale instabilities."
   ]
  },
  {
   "cell_type": "code",
   "execution_count": 211,
   "metadata": {},
   "outputs": [],
   "source": [
    "tf = 0.25\n",
    "T = 0:Δt:tf\n",
    "\n",
    "for tloc in T\n",
    "    b_now, fs_now, ambient_ω_ζ, tracers_now = sys\n",
    "    motion, fs_u, ambient_u, tracers_u = ẋs\n",
    "    \n",
    "    resize!(sys₊[3], length(sys[3]))\n",
    "    TimeMarching.forward_euler!(sys₊, sys, t, Δt, compute_ẋ!, advect!, ẋs)\n",
    "    \n",
    "    global sys₊, sys = sys, sys₊\n",
    "\n",
    "    t += Δt\n",
    "        \n",
    "    shed_new_vorticity!(sys[3], edge1, sys[1], sys[2], ẋs[1], t, spcrit1)\n",
    "        \n",
    "    # save stuff\n",
    "    \n",
    "    push!(time,t)\n",
    "    \n",
    "    b_now, fs_now, ambient_ω_ζ, tracers_now = deepcopy(sys)\n",
    "    blob_z = conftransform(ambient_ω_ζ,b_now)\n",
    "    tracers_z = conftransform(tracers_now,b_now)\n",
    "\n",
    "    if isapprox(mod(t,tsamp),0.0;atol=1e-8) || isapprox(mod(t,tsamp),tsamp;atol=1e-8)\n",
    "        push!(vorticity,deepcopy((b_now,blob_z)))\n",
    "        push!(tracers,deepcopy((b_now,tracers_z)))\n",
    "    end\n",
    "    \n",
    "    Bodies.enforce_no_flow_through!(b_now, motion, (fs_now, ambient_ω_ζ, tracers_now), t)\n",
    "    push!(imp,Elements.impulse((b_now,blob_z)))\n",
    "        \n",
    "end\n",
    "b_now, fs_now, ambient_ω_ζ, tracers_now = sys\n",
    "blob_z = conftransform(ambient_ω_ζ,b_now);\n",
    "tracers_z = conftransform(tracers_now,b_now);"
   ]
  },
  {
   "cell_type": "markdown",
   "metadata": {},
   "source": [
    "### Plot the flow field"
   ]
  },
  {
   "cell_type": "markdown",
   "metadata": {},
   "source": [
    "#### Vortex elements"
   ]
  },
  {
   "cell_type": "code",
   "execution_count": 210,
   "metadata": {},
   "outputs": [
    {
     "data": {
      "image/png": "[encoded data removed]"
     },
     "execution_count": 210,
     "metadata": {},
     "output_type": "execute_result"
    }
   ],
   "source": [
    "tkfont = Plots.font(\"Times New Roman\",15)\n",
    "ps = plot(vorticity[end],legend=false,markerstrokewidth=0,color=:RdBu_r,markersize=3,tickfont=tkfont,ratio=1,xlim=(-1,3),ylim=(-1,1)) #"
   ]
  },
  {
   "cell_type": "markdown",
   "metadata": {},
   "source": [
    "#### Tracer particles"
   ]
  },
  {
   "cell_type": "code",
   "execution_count": 212,
   "metadata": {},
   "outputs": [
    {
     "data": {
      "image/png": "[encoded data removed]"
     },
     "execution_count": 212,
     "metadata": {},
     "output_type": "execute_result"
    }
   ],
   "source": [
    "tkfont = Plots.font(\"Times New Roman\",15)\n",
    "ps = plot(tracers[end],legend=false,markerstrokewidth=0,color=:RdBu_r,clim=(-1e-8,1e-8),markersize=3,tickfont=tkfont,ratio=1,xlim=(-1,3),ylim=(-1,1)) #"
   ]
  },
  {
   "cell_type": "markdown",
   "metadata": {},
   "source": [
    "### Plot the force coefficients"
   ]
  },
  {
   "cell_type": "code",
   "execution_count": 217,
   "metadata": {},
   "outputs": [
    {
     "data": {
      "image/png": "[encoded data removed]"
     },
     "execution_count": 217,
     "metadata": {},
     "output_type": "execute_result"
    }
   ],
   "source": [
    "force = -diff(imp)/Δt\n",
    "tkfont = Plots.font(\"Times New Roman\",12)\n",
    "plot(time,2*imag.(force),tickfont=tkfont,label=\"Cy\",xlim=(0,5),ylim=(-2,2))\n",
    "plot!(time,2*real.(force),label=\"Cx\")"
   ]
  },
  {
   "cell_type": "code",
   "execution_count": 220,
   "metadata": {},
   "outputs": [],
   "source": [
    "using Statistics"
   ]
  },
  {
   "cell_type": "code",
   "execution_count": 222,
   "metadata": {},
   "outputs": [
    {
     "name": "stdout",
     "output_type": "stream",
     "text": [
      "Mean lift coefficient = 0.8432171780599299\n",
      "Mean drag coefficient = 0.09067626991391214\n"
     ]
    }
   ],
   "source": [
    "println(\"Mean lift coefficient = \",Statistics.mean(2*imag.(force)))\n",
    "println(\"Mean drag coefficient = \",Statistics.mean(2*real.(force)))"
   ]
  },
  {
   "cell_type": "markdown",
   "metadata": {},
   "source": [
    "### Plotting streamlines"
   ]
  },
  {
   "cell_type": "markdown",
   "metadata": {},
   "source": [
    "Set up a polar grid on which to plot"
   ]
  },
  {
   "cell_type": "code",
   "execution_count": 223,
   "metadata": {},
   "outputs": [],
   "source": [
    "rmax = 5.0   # largest radial coordinate (smallest is 1)\n",
    "eps = 0.00001 # small offset from the surface of the unit circle\n",
    "\n",
    "nth = 400   # number of circumferential points\n",
    "dth = 2π/nth\n",
    "θ = range(0,2π,length=nth+1)\n",
    "dr = dth\n",
    "r = [1+eps]\n",
    "while maximum(r) < rmax\n",
    "    push!(r,r[end]+dr)\n",
    "    dr = r[end]*dth\n",
    "end"
   ]
  },
  {
   "cell_type": "markdown",
   "metadata": {},
   "source": [
    "Plot the streamlines of the current system of body and vortices"
   ]
  },
  {
   "cell_type": "code",
   "execution_count": 225,
   "metadata": {},
   "outputs": [
    {
     "data": {
      "image/png": "[encoded data removed]"
     },
     "execution_count": 225,
     "metadata": {},
     "output_type": "execute_result"
    }
   ],
   "source": [
    "ps = streamlines(r,θ,sys)\n",
    "plot!(ps,b,legend=false,markerstrokewidth=0,color=:RdBu_r,clim=(-0.025/(2π),0.025/(2π)),markersize=3,xlim=(-1,1),ylim=(-1,1))"
   ]
  },
  {
   "cell_type": "code",
   "execution_count": null,
   "metadata": {},
   "outputs": [],
   "source": []
  }
 ],
 "metadata": {
  "kernelspec": {
   "display_name": "Julia 1.0.3",
   "language": "julia",
   "name": "julia-1.0"
  },
  "language_info": {
   "file_extension": ".jl",
   "mimetype": "application/julia",
   "name": "julia",
   "version": "1.0.3"
  }
 },
 "nbformat": 4,
 "nbformat_minor": 2
}
